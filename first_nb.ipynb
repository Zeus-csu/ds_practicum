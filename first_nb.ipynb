{
  "nbformat": 4,
  "nbformat_minor": 0,
  "metadata": {
    "colab": {
      "name": "first_nb.ipynb",
      "provenance": [],
      "toc_visible": true,
      "authorship_tag": "ABX9TyN3VG0yCtAp2OX7U0KXLOpE",
      "include_colab_link": true
    },
    "kernelspec": {
      "name": "python3",
      "display_name": "Python 3"
    },
    "language_info": {
      "name": "python"
    }
  },
  "cells": [
    {
      "cell_type": "markdown",
      "metadata": {
        "id": "view-in-github",
        "colab_type": "text"
      },
      "source": [
        "<a href=\"https://colab.research.google.com/github/Zeus-csu/ds_practicum/blob/main/first_nb.ipynb\" target=\"_parent\"><img src=\"https://colab.research.google.com/assets/colab-badge.svg\" alt=\"Open In Colab\"/></a>"
      ]
    },
    {
      "cell_type": "code",
      "metadata": {
        "id": "gNiMJ8Ov6JwP"
      },
      "source": [
        "import numpy as np\n",
        "\n"
      ],
      "execution_count": 3,
      "outputs": []
    },
    {
      "cell_type": "code",
      "metadata": {
        "id": "n26tVOwCLlqz",
        "outputId": "ec0c04ca-f120-4616-8d27-8158a4478e64",
        "colab": {
          "base_uri": "https://localhost:8080/"
        }
      },
      "source": [
        "ar1 = np.arange(1,20,3)\n",
        "#short_arr = ar1[5:]\n",
        " short_arr = ar1[5:].copy()\n",
        "short_arr[:] = 0\n",
        "short_arr\n"
      ],
      "execution_count": 29,
      "outputs": [
        {
          "output_type": "execute_result",
          "data": {
            "text/plain": [
              "array([0, 0])"
            ]
          },
          "metadata": {},
          "execution_count": 29
        }
      ]
    },
    {
      "cell_type": "code",
      "metadata": {
        "id": "6KV7jH1hPbe3",
        "outputId": "414e6ed2-4ec5-4581-a2d2-c28af05b4f0e",
        "colab": {
          "base_uri": "https://localhost:8080/"
        }
      },
      "source": [
        "ar1"
      ],
      "execution_count": 51,
      "outputs": [
        {
          "output_type": "execute_result",
          "data": {
            "text/plain": [
              "array([ 1,  4,  7, 10, 13, 16, 19])"
            ]
          },
          "metadata": {},
          "execution_count": 51
        }
      ]
    },
    {
      "cell_type": "code",
      "metadata": {
        "id": "xa-wjZxsLWQ0",
        "outputId": "27dda28c-a04f-4ccf-cd8b-160379e2c743",
        "colab": {
          "base_uri": "https://localhost:8080/"
        }
      },
      "source": [
        "\n",
        "sliced_arr = arr[2:2]\n",
        "sliced_arr"
      ],
      "execution_count": 10,
      "outputs": [
        {
          "output_type": "execute_result",
          "data": {
            "text/plain": [
              "array([], shape=(0, 3), dtype=int64)"
            ]
          },
          "metadata": {},
          "execution_count": 10
        }
      ]
    },
    {
      "cell_type": "code",
      "metadata": {
        "colab": {
          "base_uri": "https://localhost:8080/"
        },
        "id": "qcERfLZH6w6X",
        "outputId": "7874e03f-0c3a-4c15-bb35-f0b27149b2c3"
      },
      "source": [
        "arr = np.array([[1,2,3],[4,5,6],[7,8,9]])\n",
        "arr"
      ],
      "execution_count": 40,
      "outputs": [
        {
          "output_type": "execute_result",
          "data": {
            "text/plain": [
              "array([[1, 2, 3],\n",
              "       [4, 5, 6],\n",
              "       [7, 8, 9]])"
            ]
          },
          "metadata": {},
          "execution_count": 40
        }
      ]
    },
    {
      "cell_type": "code",
      "metadata": {
        "id": "VcD9nPHHSR4N",
        "outputId": "7421cd87-9c3b-4165-9e24-109909282e84",
        "colab": {
          "base_uri": "https://localhost:8080/"
        }
      },
      "source": [
        "#arr[1:3,1:3]\n",
        "arr[:2,1:]"
      ],
      "execution_count": 52,
      "outputs": [
        {
          "output_type": "execute_result",
          "data": {
            "text/plain": [
              "array([[2, 3],\n",
              "       [5, 6]])"
            ]
          },
          "metadata": {},
          "execution_count": 52
        }
      ]
    },
    {
      "cell_type": "code",
      "metadata": {
        "id": "U-s9RlAeWnNQ",
        "outputId": "5335f5e0-d81a-4366-8200-2ead3f547bfc",
        "colab": {
          "base_uri": "https://localhost:8080/"
        }
      },
      "source": [
        "# 3D array\n",
        "arr3d = np.array([[[ 0,  1,  2],\n",
        "                   [ 3,  4,  5],\n",
        "                   [ 6,  7,  8]],\n",
        "\n",
        "                  [[ 9, 10, 11],\n",
        "                   [12, 13, 14],\n",
        "                   [15, 16, 17]],\n",
        "\n",
        "                  [[18, 19, 20],\n",
        "                   [21, 22, 23],\n",
        "                   [24, 25, 26]]])\n",
        "arr3d"
      ],
      "execution_count": 53,
      "outputs": [
        {
          "output_type": "execute_result",
          "data": {
            "text/plain": [
              "array([[[ 0,  1,  2],\n",
              "        [ 3,  4,  5],\n",
              "        [ 6,  7,  8]],\n",
              "\n",
              "       [[ 9, 10, 11],\n",
              "        [12, 13, 14],\n",
              "        [15, 16, 17]],\n",
              "\n",
              "       [[18, 19, 20],\n",
              "        [21, 22, 23],\n",
              "        [24, 25, 26]]])"
            ]
          },
          "metadata": {},
          "execution_count": 53
        }
      ]
    },
    {
      "cell_type": "code",
      "metadata": {
        "id": "eE3TlyvcWpsw",
        "outputId": "ec3d450f-82ce-4000-dd3e-758de6838d28",
        "colab": {
          "base_uri": "https://localhost:8080/"
        }
      },
      "source": [
        "#arr3d[1][2,1]\n",
        "#arr3d[2][1,:]\n",
        "#arr3d[0][2,1]\n",
        "arr3d[0][1:3,1:6]"
      ],
      "execution_count": 63,
      "outputs": [
        {
          "output_type": "execute_result",
          "data": {
            "text/plain": [
              "array([[4, 5],\n",
              "       [7, 8]])"
            ]
          },
          "metadata": {},
          "execution_count": 63
        }
      ]
    },
    {
      "cell_type": "code",
      "metadata": {
        "id": "hwA7ug4yc3Vl",
        "outputId": "ca9cd33f-8bbe-47b6-f5c3-3ceb8a2e91e2",
        "colab": {
          "base_uri": "https://localhost:8080/"
        }
      },
      "source": [
        "names =np.array(['Ali','Vali',\"G'ani\",'Olim','Vali'])\n",
        "names"
      ],
      "execution_count": 85,
      "outputs": [
        {
          "output_type": "execute_result",
          "data": {
            "text/plain": [
              "array(['Ali', 'Vali', \"G'ani\", 'Olim', 'Vali'], dtype='<U5')"
            ]
          },
          "metadata": {},
          "execution_count": 85
        }
      ]
    },
    {
      "cell_type": "code",
      "metadata": {
        "id": "nOIoe-tBW4i7",
        "outputId": "502bfafd-3c0b-4e0d-9d43-386aa60378fd",
        "colab": {
          "base_uri": "https://localhost:8080/"
        }
      },
      "source": [
        "infos = np.random.randn(5,4)\n",
        "infos"
      ],
      "execution_count": 76,
      "outputs": [
        {
          "output_type": "execute_result",
          "data": {
            "text/plain": [
              "array([[ 1.56373631,  0.41215175,  0.04011347, -0.83918221],\n",
              "       [ 0.38444058, -1.30622653,  0.30067406, -0.32849543],\n",
              "       [ 0.60811528,  0.60280097, -1.22714202, -0.98095484],\n",
              "       [ 0.2382645 ,  0.97404626, -0.27280464,  1.42643045],\n",
              "       [-0.66136476, -0.81970704,  0.5942308 , -1.10284845]])"
            ]
          },
          "metadata": {},
          "execution_count": 76
        }
      ]
    },
    {
      "cell_type": "code",
      "metadata": {
        "id": "EA_hNcHUcwkz",
        "outputId": "a1b51ea1-2a73-479a-8c87-3d1b02b844b8",
        "colab": {
          "base_uri": "https://localhost:8080/"
        }
      },
      "source": [
        "names == 'Vali'\n",
        "\n",
        "infos[(names == 'Ali') | (names == 'Vali')  ,:2]\n"
      ],
      "execution_count": 100,
      "outputs": [
        {
          "output_type": "execute_result",
          "data": {
            "text/plain": [
              "array([[ 1.56373631,  0.41215175],\n",
              "       [ 0.38444058, -1.30622653],\n",
              "       [-0.66136476, -0.81970704]])"
            ]
          },
          "metadata": {},
          "execution_count": 100
        }
      ]
    },
    {
      "cell_type": "code",
      "metadata": {
        "id": "QxwHHRX0dYys",
        "outputId": "1cb420e6-f782-41d7-abad-0e8b1428c25a",
        "colab": {
          "base_uri": "https://localhost:8080/"
        }
      },
      "source": [
        "#infos[names != 'Ali',:]\n",
        "infos[~(names== 'Ali')]"
      ],
      "execution_count": 102,
      "outputs": [
        {
          "output_type": "execute_result",
          "data": {
            "text/plain": [
              "array([[ 0.38444058, -1.30622653,  0.30067406, -0.32849543],\n",
              "       [ 0.60811528,  0.60280097, -1.22714202, -0.98095484],\n",
              "       [ 0.2382645 ,  0.97404626, -0.27280464,  1.42643045],\n",
              "       [-0.66136476, -0.81970704,  0.5942308 , -1.10284845]])"
            ]
          },
          "metadata": {},
          "execution_count": 102
        }
      ]
    },
    {
      "cell_type": "code",
      "metadata": {
        "id": "oBGkhUEYgM_j",
        "outputId": "cd8ff005-07c0-4e0e-d056-a13f7333a026",
        "colab": {
          "base_uri": "https://localhost:8080/"
        }
      },
      "source": [
        "mask = (names == 'Ali') | (names=='Olim')\n",
        "infos[mask]"
      ],
      "execution_count": 99,
      "outputs": [
        {
          "output_type": "execute_result",
          "data": {
            "text/plain": [
              "array([[ 1.56373631,  0.41215175,  0.04011347, -0.83918221],\n",
              "       [ 0.2382645 ,  0.97404626, -0.27280464,  1.42643045]])"
            ]
          },
          "metadata": {},
          "execution_count": 99
        }
      ]
    },
    {
      "cell_type": "code",
      "metadata": {
        "id": "z36U0XyehGMp",
        "outputId": "1b080704-9c9f-438c-939d-1c3b4017a6f2",
        "colab": {
          "base_uri": "https://localhost:8080/"
        }
      },
      "source": [
        "infos[infos<0]=0\n",
        "infos\n",
        "infos[mask]"
      ],
      "execution_count": 104,
      "outputs": [
        {
          "output_type": "execute_result",
          "data": {
            "text/plain": [
              "array([[1.56373631, 0.41215175, 0.04011347, 0.        ],\n",
              "       [0.2382645 , 0.97404626, 0.        , 1.42643045]])"
            ]
          },
          "metadata": {},
          "execution_count": 104
        }
      ]
    }
  ]
}